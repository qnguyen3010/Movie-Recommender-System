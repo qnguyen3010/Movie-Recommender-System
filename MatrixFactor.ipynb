{
 "cells": [
  {
   "cell_type": "code",
   "execution_count": 22,
   "metadata": {
    "collapsed": true
   },
   "outputs": [],
   "source": [
    "\"\"\"\n",
    "Collaborative Filtering ALS Recommender System using Spark MLlib \n",
    "\"\"\"\n",
    "\n",
    "import os\n",
    "import numpy as np\n",
    "import pandas as pd\n",
    "from pyspark.sql import SparkSession\n",
    "import matplotlib.pyplot as plt\n",
    "import seaborn as sns\n",
    "%matplotlib inline\n",
    "\n",
    "from pyspark.mllib.recommendation import ALS\n",
    "from pyspark.ml.recommendation import ALS as mlals\n",
    "from pyspark.ml.evaluation import RegressionEvaluator\n",
    "\n",
    "import math\n",
    "from pyspark.sql.functions import udf\n",
    "from pyspark.sql.types import *\n",
    "from pyspark.ml.evaluation import RegressionEvaluator"
   ]
  },
  {
   "cell_type": "code",
   "execution_count": 23,
   "metadata": {
    "collapsed": true
   },
   "outputs": [],
   "source": [
    "# Calling spark session to register application\n",
    "spark = SparkSession \\\n",
    "    .builder \\\n",
    "    .appName(\"Recom\") \\\n",
    "    .config(\"spark.recom.demo\", \"1\") \\\n",
    "    .getOrCreate()"
   ]
  },
  {
   "cell_type": "code",
   "execution_count": 24,
   "metadata": {
    "collapsed": true
   },
   "outputs": [],
   "source": [
    "\"\"\"\n",
    "Loading and Parsing Dataset\n",
    "    Each line in the ratings dataset (ratings.csv) is formatted as:\n",
    "         userId,movieId,rating\n",
    "\"\"\" \n",
    "\n",
    "# Load ratings\n",
    "ratings_df = spark.read \\\n",
    "    .format(\"csv\") \\\n",
    "    .option(\"header\", \"true\") \\\n",
    "    .option(\"inferSchema\", \"true\") \\\n",
    "    .load(\"ratings-5.csv\")"
   ]
  },
  {
   "cell_type": "code",
   "execution_count": 25,
   "metadata": {},
   "outputs": [
    {
     "data": {
      "text/plain": [
       "DataFrame[userId: int, movieId: int, rating: double]"
      ]
     },
     "execution_count": 25,
     "metadata": {},
     "output_type": "execute_result"
    }
   ],
   "source": [
    "ratings_df"
   ]
  },
  {
   "cell_type": "code",
   "execution_count": 26,
   "metadata": {},
   "outputs": [
    {
     "name": "stdout",
     "output_type": "stream",
     "text": [
      "+------+-------+------+\n",
      "|userId|movieId|rating|\n",
      "+------+-------+------+\n",
      "|   149|      2|   1.0|\n",
      "|   149|      3|   0.5|\n",
      "|   149|      5|   0.5|\n",
      "|   149|      7|  0.25|\n",
      "|   149|      9|  0.75|\n",
      "|   149|     10|  0.75|\n",
      "|   149|     11|  0.75|\n",
      "|   149|     12|  0.75|\n",
      "|   149|     13|  0.75|\n",
      "|   149|     14|   0.5|\n",
      "|   149|     16|   1.0|\n",
      "|   149|     18|  0.75|\n",
      "|   149|     20|   1.0|\n",
      "|   149|     21|  0.75|\n",
      "|   969|      5|   1.0|\n",
      "|   969|     14|   0.5|\n",
      "|   969|     15|   0.0|\n",
      "|   969|     16|   0.0|\n",
      "|   969|     21|  0.25|\n",
      "|   589|      1|  0.75|\n",
      "|   589|      2|   1.0|\n",
      "|   589|      3|   1.0|\n",
      "|   589|      4|  0.75|\n",
      "|   589|      5|   0.5|\n",
      "|   589|      6|   0.5|\n",
      "|   589|      7|  0.25|\n",
      "|   589|      8|  0.75|\n",
      "|   589|      9|   1.0|\n",
      "|   589|     10|   1.0|\n",
      "|   589|     11|   0.5|\n",
      "+------+-------+------+\n",
      "only showing top 30 rows\n",
      "\n"
     ]
    }
   ],
   "source": [
    "\"\"\"\n",
    "Displaying the first 30 rows\n",
    "\"\"\"\n",
    "ratings_df.show(30)"
   ]
  },
  {
   "cell_type": "code",
   "execution_count": null,
   "metadata": {
    "collapsed": true
   },
   "outputs": [],
   "source": []
  },
  {
   "cell_type": "code",
   "execution_count": null,
   "metadata": {
    "collapsed": true
   },
   "outputs": [],
   "source": []
  },
  {
   "cell_type": "code",
   "execution_count": null,
   "metadata": {
    "collapsed": true
   },
   "outputs": [],
   "source": []
  },
  {
   "cell_type": "code",
   "execution_count": 27,
   "metadata": {
    "collapsed": true
   },
   "outputs": [],
   "source": [
    "\"\"\"\n",
    "We need first to split it into train, validation, and test datasets.\n",
    "\"\"\"\n",
    "(trainingData,validationData,testData) = ratings_df.randomSplit([0.6,0.2,0.2])"
   ]
  },
  {
   "cell_type": "code",
   "execution_count": 28,
   "metadata": {
    "collapsed": true
   },
   "outputs": [],
   "source": [
    "# Prepare test and validation set. They should not have ratings\n",
    "\n",
    "validation_for_predict = validationData.select('userId','movieId')\n",
    "test_for_predict = testData.select('userId','movieId')"
   ]
  },
  {
   "cell_type": "code",
   "execution_count": 29,
   "metadata": {
    "collapsed": true
   },
   "outputs": [],
   "source": [
    "\"\"\"\n",
    "Spark MLlib library for Machine Learning provides a Collaborative Filtering implementation by \n",
    "using Alternating Least Squares. The implementation in MLlib has the following parameters:\n",
    "\n",
    "    1. numBlocks is the number of blocks used to parallelize computation (set to -1 to auto-configure).\n",
    "    2. rank is the number of latent factors in the model.\n",
    "    3. iterations is the number of iterations to run.\n",
    "    4. lambda specifies the regularization parameter in ALS.\n",
    "    5. implicitPrefs specifies whether to use the explicit \n",
    "        feedback ALS variant or one adapted for implicit feedback data.\n",
    "    6. alpha is a parameter applicable to the implicit feedback variant of ALS that governs the baseline \n",
    "        confidence in preference observations.\n",
    "\n",
    "\"\"\"\n",
    "\n",
    "seed = 5 #Random seed for initial matrix factorization model. A value of None will use system time as the seed.\n",
    "iterations = 10\n",
    "regularization_parameter = 0.1 #run for different lambdas - e.g. 0.01\n",
    "ranks = [4, 8, 12, 16, 20, 24, 28, 32, 36, 40, 44, 48, 52, 56, 60 ] #number of features\n",
    "errors = [0, 0, 0, 0, 0, 0, 0, 0, 0, 0, 0, 0, 0, 0, 0 ]\n",
    "err = 0\n",
    "tolerance = 0.02\n",
    "\n",
    "min_error = float('inf')\n",
    "best_rank = -1\n",
    "best_iteration = -1"
   ]
  },
  {
   "cell_type": "code",
   "execution_count": 30,
   "metadata": {},
   "outputs": [
    {
     "name": "stdout",
     "output_type": "stream",
     "text": [
      "For rank 4 the RMSE is 0.2652827409193689\n",
      "For rank 8 the RMSE is 0.2658825829231328\n",
      "For rank 12 the RMSE is 0.2658811924571415\n",
      "For rank 16 the RMSE is 0.2658651029976035\n",
      "For rank 20 the RMSE is 0.26593694808014695\n",
      "For rank 24 the RMSE is 0.2657951938394082\n",
      "For rank 28 the RMSE is 0.26579954298981134\n",
      "For rank 32 the RMSE is 0.2657838882771415\n",
      "For rank 36 the RMSE is 0.2658659055147169\n",
      "For rank 40 the RMSE is 0.2658527589341894\n",
      "For rank 44 the RMSE is 0.26585588773318863\n",
      "For rank 48 the RMSE is 0.2658212646542218\n",
      "For rank 52 the RMSE is 0.2657898387562681\n",
      "For rank 56 the RMSE is 0.26579961236562233\n",
      "For rank 60 the RMSE is 0.2658507677322246\n",
      "The best model was trained with rank 4\n"
     ]
    }
   ],
   "source": [
    "# Let us traing our dataset and check the best rank with lowest RMSE\n",
    "# predictAll method of the ALS takes only RDD format and hence we need to convert our dataframe into RDD\n",
    "# df.rdd will automatically converts Dataframe into RDD\n",
    "\n",
    "for rank in ranks:\n",
    "    model = ALS.train(trainingData, rank, seed=seed, iterations=iterations,\n",
    "                      lambda_=regularization_parameter)\n",
    "    predictions = model.predictAll(validation_for_predict.rdd).map(lambda r: ((r[0], r[1]), r[2]))\n",
    "    rates_and_preds = validationData.rdd.map(lambda r: ((int(r[0]), int(r[1])), float(r[2]))).join(predictions)\n",
    "    error = math.sqrt(rates_and_preds.map(lambda r: (r[1][0] - r[1][1])**2).mean()) # RMSE Error\n",
    "    errors[err] = error\n",
    "    err += 1\n",
    "    print ('For rank %s the RMSE is %s' % (rank, error))\n",
    "    if error < min_error:\n",
    "        min_error = error\n",
    "        best_rank = rank\n",
    "\n",
    "print ('The best model was trained with rank %s' % best_rank)"
   ]
  },
  {
   "cell_type": "code",
   "execution_count": 31,
   "metadata": {},
   "outputs": [
    {
     "name": "stdout",
     "output_type": "stream",
     "text": [
      "RMSE is 0.26525689239773637\n"
     ]
    }
   ],
   "source": [
    "\"\"\"\n",
    "ML packages with standard machine learning implementation\n",
    "Using Regression Evaluator to compute RMSE\n",
    "The library will take care of RDD itself\n",
    "\"\"\"\n",
    "als =  mlals(maxIter=iterations,rank=4,seed=seed,regParam=regularization_parameter, userCol=\"userId\", itemCol=\"movieId\",ratingCol=\"rating\")\n",
    "modelML = als.fit(trainingData)\n",
    "pred = modelML.transform(validationData)\n",
    "pred = pred.where(pred['prediction'] != 'NaN')\n",
    "    \n",
    "# Evaluate the model by computing RMSE\n",
    "evaluator = RegressionEvaluator(metricName=\"rmse\", labelCol=\"rating\",predictionCol=\"prediction\")\n",
    "rmse = evaluator.evaluate(pred)\n",
    "\n",
    "print ('RMSE is %s' % rmse)"
   ]
  },
  {
   "cell_type": "code",
   "execution_count": 32,
   "metadata": {
    "collapsed": true
   },
   "outputs": [],
   "source": [
    "# Let's take test dataset and get ratings\n",
    "predictions_test = model.predictAll(test_for_predict.rdd).map(lambda r: ((r[0], r[1]), r[2]))"
   ]
  },
  {
   "cell_type": "code",
   "execution_count": 33,
   "metadata": {},
   "outputs": [
    {
     "data": {
      "text/plain": [
       "[((200, 12), 0.5694241685728765),\n",
       " ((200, 10), 0.5160147446315718),\n",
       " ((460, 8), 0.71017244290452),\n",
       " ((460, 5), 0.7238083670196206),\n",
       " ((240, 8), 0.6189074105257013)]"
      ]
     },
     "execution_count": 33,
     "metadata": {},
     "output_type": "execute_result"
    }
   ],
   "source": [
    "## visualize preditions, here third element is predictions generated by ALS Model\n",
    "predictions_test.take(5)"
   ]
  },
  {
   "cell_type": "code",
   "execution_count": 34,
   "metadata": {
    "collapsed": true
   },
   "outputs": [],
   "source": [
    "\"\"\"\n",
    "getRecommendations to get recommendations for a particular user from test data\n",
    "\n",
    "TODO: You need to execute one more step before calling getRecommendations, \n",
    "      Think about that step. If you go through the seps below, you will realize it soon.\n",
    "\"\"\"\n",
    "def getRecommendations(user,testDf,trainDf,model):\n",
    "    # get all user and his/her rated movies\n",
    "    userDf = testDf.filter(testDf.userId == user)\n",
    "    # filter movies from main set which have not been rated by selected user\n",
    "    # and pass it to model we sreated above\n",
    "    mov = trainDf.select('movieId').subtract(userDf.select('movieId'))\n",
    "    \n",
    "    # Again we need to covert our dataframe into RDD\n",
    "    pred_rat = model.predictAll(mov.rdd.map(lambda x: (user, x[0]))).collect()\n",
    "    \n",
    "    # Get the top recommendations\n",
    "    recommendations = sorted(pred_rat, key=lambda x: x[2], reverse=True)[:50]\n",
    "    \n",
    "    return recommendations"
   ]
  },
  {
   "cell_type": "code",
   "execution_count": 35,
   "metadata": {},
   "outputs": [
    {
     "name": "stdout",
     "output_type": "stream",
     "text": [
      "Movies recommended for:149\n"
     ]
    }
   ],
   "source": [
    "# Assign user id for which we need recommendations\n",
    "user = 149\n",
    "\n",
    "# Call getRecommendations method\n",
    "derived_rec = getRecommendations(user,testData,trainingData,model)\n",
    "\n",
    "print (\"Movies recommended for:%d\" % user)\n",
    "\n"
   ]
  },
  {
   "cell_type": "code",
   "execution_count": 36,
   "metadata": {},
   "outputs": [
    {
     "data": {
      "text/plain": [
       "[Rating(user=149, product=16, rating=0.6447600364992911),\n",
       " Rating(user=149, product=13, rating=0.6215800764200071),\n",
       " Rating(user=149, product=3, rating=0.6177792189028436),\n",
       " Rating(user=149, product=18, rating=0.6157460414323972),\n",
       " Rating(user=149, product=9, rating=0.5935115641644458),\n",
       " Rating(user=149, product=12, rating=0.5824727319235784),\n",
       " Rating(user=149, product=21, rating=0.5797634139589907),\n",
       " Rating(user=149, product=10, rating=0.5757244213109232),\n",
       " Rating(user=149, product=8, rating=0.5377526253723545),\n",
       " Rating(user=149, product=17, rating=0.5316234451108355),\n",
       " Rating(user=149, product=14, rating=0.524654945991108),\n",
       " Rating(user=149, product=4, rating=0.5106214967170337),\n",
       " Rating(user=149, product=5, rating=0.4978389263429476),\n",
       " Rating(user=149, product=19, rating=0.49762637207614324),\n",
       " Rating(user=149, product=7, rating=0.47406222657664293),\n",
       " Rating(user=149, product=1, rating=0.4543212285768474),\n",
       " Rating(user=149, product=15, rating=0.3694580203459196),\n",
       " Rating(user=149, product=6, rating=0.3607966803879748)]"
      ]
     },
     "execution_count": 36,
     "metadata": {},
     "output_type": "execute_result"
    }
   ],
   "source": [
    "derived_rec\n"
   ]
  },
  {
   "cell_type": "code",
   "execution_count": 37,
   "metadata": {},
   "outputs": [
    {
     "name": "stdout",
     "output_type": "stream",
     "text": [
      "    User ID  Movie ID   Ratings\n",
      "0     149.0      16.0  0.644760\n",
      "1     149.0      13.0  0.621580\n",
      "2     149.0       3.0  0.617779\n",
      "3     149.0      18.0  0.615746\n",
      "4     149.0       9.0  0.593512\n",
      "5     149.0      12.0  0.582473\n",
      "6     149.0      21.0  0.579763\n",
      "7     149.0      10.0  0.575724\n",
      "8     149.0       8.0  0.537753\n",
      "9     149.0      17.0  0.531623\n",
      "10    149.0      14.0  0.524655\n",
      "11    149.0       4.0  0.510621\n",
      "12    149.0       5.0  0.497839\n",
      "13    149.0      19.0  0.497626\n",
      "14    149.0       7.0  0.474062\n",
      "15    149.0       1.0  0.454321\n",
      "16    149.0      15.0  0.369458\n",
      "17    149.0       6.0  0.360797\n"
     ]
    }
   ],
   "source": [
    "names = ['User ID', 'Movie ID', 'Ratings']\n",
    "rec_df = pd.DataFrame(np.array(derived_rec).reshape(len(derived_rec),len(derived_rec[0])), columns = names)\n",
    "print (rec_df)"
   ]
  },
  {
   "cell_type": "code",
   "execution_count": null,
   "metadata": {
    "collapsed": true
   },
   "outputs": [],
   "source": []
  },
  {
   "cell_type": "code",
   "execution_count": null,
   "metadata": {
    "collapsed": true
   },
   "outputs": [],
   "source": []
  },
  {
   "cell_type": "code",
   "execution_count": null,
   "metadata": {
    "collapsed": true
   },
   "outputs": [],
   "source": []
  },
  {
   "cell_type": "code",
   "execution_count": null,
   "metadata": {
    "collapsed": true
   },
   "outputs": [],
   "source": []
  }
 ],
 "metadata": {
  "kernelspec": {
   "display_name": "Python 3",
   "language": "python",
   "name": "python3"
  },
  "language_info": {
   "codemirror_mode": {
    "name": "ipython",
    "version": 3
   },
   "file_extension": ".py",
   "mimetype": "text/x-python",
   "name": "python",
   "nbconvert_exporter": "python",
   "pygments_lexer": "ipython3",
   "version": "3.6.1"
  }
 },
 "nbformat": 4,
 "nbformat_minor": 2
}
